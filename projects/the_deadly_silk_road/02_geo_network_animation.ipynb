{
 "cells": [
  {
   "cell_type": "code",
   "execution_count": 58,
   "id": "initial_id",
   "metadata": {
    "collapsed": true,
    "ExecuteTime": {
     "end_time": "2024-07-28T15:40:07.123797Z",
     "start_time": "2024-07-28T15:40:07.111564Z"
    }
   },
   "outputs": [
    {
     "data": {
      "text/plain": "          id  trade_id                target         source  \\\n212   301453     33409             Singapore  United States   \n1087  236081     57819               Germany  United States   \n1751  241603     64660                 Qatar  United States   \n1529  248186     62422           South Korea  United States   \n2049  313682     67073           South Korea         France   \n808   268310     53683              Thailand        Ukraine   \n1256  229547     59710  unknown recipient(s)         Poland   \n1275  262183     59897           South Korea  United States   \n680   262855     51430               Algeria   South Africa   \n217   241074     33452                   UAE  United States   \n\n                     order_date orderYrEst  quantity  \\\n212   2000-01-01 00:00:00+00:00       True      60.0   \n1087  2000-01-01 00:00:00+00:00       True     500.0   \n1751  2017-01-01 00:00:00+00:00       True     200.0   \n1529  2017-01-01 00:00:00+00:00      False     290.0   \n2049  2023-01-01 00:00:00+00:00      False       NaN   \n808   2011-01-01 00:00:00+00:00       True    1500.0   \n1256  2016-01-01 00:00:00+00:00       True      50.0   \n1275  2016-01-01 00:00:00+00:00       True      17.0   \n680   2007-01-01 00:00:00+00:00       True      50.0   \n217   2006-01-01 00:00:00+00:00      False      96.0   \n\n                  delivery_date  designation         description  category  \\\n212   2001-01-01 00:00:00+00:00       AIM-9M               SRAAM  Missiles   \n1087  2004-01-01 00:00:00+00:00      Paveway         guided bomb  Missiles   \n1751  2023-01-01 00:00:00+00:00       AGM-65                 ASM  Missiles   \n1529  2018-01-01 00:00:00+00:00         JDAM         guided bomb  Missiles   \n2049                        NaN  Mistral SAM        portable SAM  Missiles   \n808   2017-01-01 00:00:00+00:00          R-2   anti-tank missile  Missiles   \n1256  2017-01-01 00:00:00+00:00      Warmate  loitering munition  Missiles   \n1275  2021-01-01 00:00:00+00:00       SM-2MR                 SAM  Missiles   \n680   2008-01-01 00:00:00+00:00     Raptor-2                 ASM  Missiles   \n217   2015-01-01 00:00:00+00:00         ESSM                 SAM  Missiles   \n\n      source_lat  source_lng  target_lat  target_lng  \n212    38.893651  -77.170630         NaN         NaN  \n1087   38.893651  -77.170630   51.247366   10.298068  \n1751   38.893651  -77.170630   25.323750   51.183576  \n1529   38.893651  -77.170630   36.447642  127.822588  \n2049   44.349371   -1.328556   36.447642  127.822588  \n808    49.215255   31.197760   15.086950  101.007552  \n1256   52.211251   19.294992         NaN         NaN  \n1275   38.893651  -77.170630   36.447642  127.822588  \n680   -29.071408   24.993023   28.452596    2.596583  \n217    38.893651  -77.170630   23.875788   54.210894  ",
      "text/html": "<div>\n<style scoped>\n    .dataframe tbody tr th:only-of-type {\n        vertical-align: middle;\n    }\n\n    .dataframe tbody tr th {\n        vertical-align: top;\n    }\n\n    .dataframe thead th {\n        text-align: right;\n    }\n</style>\n<table border=\"1\" class=\"dataframe\">\n  <thead>\n    <tr style=\"text-align: right;\">\n      <th></th>\n      <th>id</th>\n      <th>trade_id</th>\n      <th>target</th>\n      <th>source</th>\n      <th>order_date</th>\n      <th>orderYrEst</th>\n      <th>quantity</th>\n      <th>delivery_date</th>\n      <th>designation</th>\n      <th>description</th>\n      <th>category</th>\n      <th>source_lat</th>\n      <th>source_lng</th>\n      <th>target_lat</th>\n      <th>target_lng</th>\n    </tr>\n  </thead>\n  <tbody>\n    <tr>\n      <th>212</th>\n      <td>301453</td>\n      <td>33409</td>\n      <td>Singapore</td>\n      <td>United States</td>\n      <td>2000-01-01 00:00:00+00:00</td>\n      <td>True</td>\n      <td>60.0</td>\n      <td>2001-01-01 00:00:00+00:00</td>\n      <td>AIM-9M</td>\n      <td>SRAAM</td>\n      <td>Missiles</td>\n      <td>38.893651</td>\n      <td>-77.170630</td>\n      <td>NaN</td>\n      <td>NaN</td>\n    </tr>\n    <tr>\n      <th>1087</th>\n      <td>236081</td>\n      <td>57819</td>\n      <td>Germany</td>\n      <td>United States</td>\n      <td>2000-01-01 00:00:00+00:00</td>\n      <td>True</td>\n      <td>500.0</td>\n      <td>2004-01-01 00:00:00+00:00</td>\n      <td>Paveway</td>\n      <td>guided bomb</td>\n      <td>Missiles</td>\n      <td>38.893651</td>\n      <td>-77.170630</td>\n      <td>51.247366</td>\n      <td>10.298068</td>\n    </tr>\n    <tr>\n      <th>1751</th>\n      <td>241603</td>\n      <td>64660</td>\n      <td>Qatar</td>\n      <td>United States</td>\n      <td>2017-01-01 00:00:00+00:00</td>\n      <td>True</td>\n      <td>200.0</td>\n      <td>2023-01-01 00:00:00+00:00</td>\n      <td>AGM-65</td>\n      <td>ASM</td>\n      <td>Missiles</td>\n      <td>38.893651</td>\n      <td>-77.170630</td>\n      <td>25.323750</td>\n      <td>51.183576</td>\n    </tr>\n    <tr>\n      <th>1529</th>\n      <td>248186</td>\n      <td>62422</td>\n      <td>South Korea</td>\n      <td>United States</td>\n      <td>2017-01-01 00:00:00+00:00</td>\n      <td>False</td>\n      <td>290.0</td>\n      <td>2018-01-01 00:00:00+00:00</td>\n      <td>JDAM</td>\n      <td>guided bomb</td>\n      <td>Missiles</td>\n      <td>38.893651</td>\n      <td>-77.170630</td>\n      <td>36.447642</td>\n      <td>127.822588</td>\n    </tr>\n    <tr>\n      <th>2049</th>\n      <td>313682</td>\n      <td>67073</td>\n      <td>South Korea</td>\n      <td>France</td>\n      <td>2023-01-01 00:00:00+00:00</td>\n      <td>False</td>\n      <td>NaN</td>\n      <td>NaN</td>\n      <td>Mistral SAM</td>\n      <td>portable SAM</td>\n      <td>Missiles</td>\n      <td>44.349371</td>\n      <td>-1.328556</td>\n      <td>36.447642</td>\n      <td>127.822588</td>\n    </tr>\n    <tr>\n      <th>808</th>\n      <td>268310</td>\n      <td>53683</td>\n      <td>Thailand</td>\n      <td>Ukraine</td>\n      <td>2011-01-01 00:00:00+00:00</td>\n      <td>True</td>\n      <td>1500.0</td>\n      <td>2017-01-01 00:00:00+00:00</td>\n      <td>R-2</td>\n      <td>anti-tank missile</td>\n      <td>Missiles</td>\n      <td>49.215255</td>\n      <td>31.197760</td>\n      <td>15.086950</td>\n      <td>101.007552</td>\n    </tr>\n    <tr>\n      <th>1256</th>\n      <td>229547</td>\n      <td>59710</td>\n      <td>unknown recipient(s)</td>\n      <td>Poland</td>\n      <td>2016-01-01 00:00:00+00:00</td>\n      <td>True</td>\n      <td>50.0</td>\n      <td>2017-01-01 00:00:00+00:00</td>\n      <td>Warmate</td>\n      <td>loitering munition</td>\n      <td>Missiles</td>\n      <td>52.211251</td>\n      <td>19.294992</td>\n      <td>NaN</td>\n      <td>NaN</td>\n    </tr>\n    <tr>\n      <th>1275</th>\n      <td>262183</td>\n      <td>59897</td>\n      <td>South Korea</td>\n      <td>United States</td>\n      <td>2016-01-01 00:00:00+00:00</td>\n      <td>True</td>\n      <td>17.0</td>\n      <td>2021-01-01 00:00:00+00:00</td>\n      <td>SM-2MR</td>\n      <td>SAM</td>\n      <td>Missiles</td>\n      <td>38.893651</td>\n      <td>-77.170630</td>\n      <td>36.447642</td>\n      <td>127.822588</td>\n    </tr>\n    <tr>\n      <th>680</th>\n      <td>262855</td>\n      <td>51430</td>\n      <td>Algeria</td>\n      <td>South Africa</td>\n      <td>2007-01-01 00:00:00+00:00</td>\n      <td>True</td>\n      <td>50.0</td>\n      <td>2008-01-01 00:00:00+00:00</td>\n      <td>Raptor-2</td>\n      <td>ASM</td>\n      <td>Missiles</td>\n      <td>-29.071408</td>\n      <td>24.993023</td>\n      <td>28.452596</td>\n      <td>2.596583</td>\n    </tr>\n    <tr>\n      <th>217</th>\n      <td>241074</td>\n      <td>33452</td>\n      <td>UAE</td>\n      <td>United States</td>\n      <td>2006-01-01 00:00:00+00:00</td>\n      <td>False</td>\n      <td>96.0</td>\n      <td>2015-01-01 00:00:00+00:00</td>\n      <td>ESSM</td>\n      <td>SAM</td>\n      <td>Missiles</td>\n      <td>38.893651</td>\n      <td>-77.170630</td>\n      <td>23.875788</td>\n      <td>54.210894</td>\n    </tr>\n  </tbody>\n</table>\n</div>"
     },
     "execution_count": 58,
     "metadata": {},
     "output_type": "execute_result"
    }
   ],
   "source": [
    "import io\n",
    "from typing import List, Dict\n",
    "\n",
    "from PIL import Image\n",
    "import networkx as nx\n",
    "import numpy as np\n",
    "import pandas as pd\n",
    "import matplotlib.pyplot as plt\n",
    "import community as community_louvain\n",
    "from mpl_toolkits.basemap import Basemap\n",
    "\n",
    "source_df = pd.read_csv('data/global_missile_trade_2000_2023.csv')\n",
    "source_df.sample(10)"
   ]
  },
  {
   "cell_type": "code",
   "outputs": [
    {
     "name": "stdout",
     "output_type": "stream",
     "text": [
      "<class 'pandas.core.frame.DataFrame'>\n",
      "RangeIndex: 2121 entries, 0 to 2120\n",
      "Data columns (total 15 columns):\n",
      " #   Column         Non-Null Count  Dtype  \n",
      "---  ------         --------------  -----  \n",
      " 0   id             2121 non-null   int64  \n",
      " 1   trade_id       2121 non-null   int64  \n",
      " 2   target         2121 non-null   object \n",
      " 3   source         2121 non-null   object \n",
      " 4   order_date     2121 non-null   object \n",
      " 5   orderYrEst     2118 non-null   object \n",
      " 6   quantity       1994 non-null   float64\n",
      " 7   delivery_date  1698 non-null   object \n",
      " 8   designation    2121 non-null   object \n",
      " 9   description    2121 non-null   object \n",
      " 10  category       2121 non-null   object \n",
      " 11  source_lat     2101 non-null   float64\n",
      " 12  source_lng     2101 non-null   float64\n",
      " 13  target_lat     2014 non-null   float64\n",
      " 14  target_lng     2014 non-null   float64\n",
      "dtypes: float64(5), int64(2), object(8)\n",
      "memory usage: 248.7+ KB\n"
     ]
    }
   ],
   "source": [
    "edge_df = source_df.copy(deep=True)\n",
    "edge_df.info()"
   ],
   "metadata": {
    "collapsed": false,
    "ExecuteTime": {
     "end_time": "2024-07-28T15:40:07.129660Z",
     "start_time": "2024-07-28T15:40:07.124911Z"
    }
   },
   "id": "d6dc30843a05640d",
   "execution_count": 59
  },
  {
   "cell_type": "code",
   "outputs": [],
   "source": [
    "edge_df.dropna(inplace=True)\n",
    "#edge_df = edge_df[edge_df['category'] == 'Missiles']"
   ],
   "metadata": {
    "collapsed": false,
    "ExecuteTime": {
     "end_time": "2024-07-28T15:40:07.132922Z",
     "start_time": "2024-07-28T15:40:07.130300Z"
    }
   },
   "id": "f698de73233529cb",
   "execution_count": 60
  },
  {
   "cell_type": "code",
   "outputs": [],
   "source": [
    "def set_node_positions(network: nx.DiGraph) -> dict:\n",
    "    pos = {}\n",
    "    for u, v, d in network.edges(data=True):\n",
    "        pos[u] = (d['source_lng'], d['source_lat'])\n",
    "        pos[v] = (d['target_lng'], d['target_lat'])\n",
    "    return pos\n",
    "\n",
    "\n",
    "def set_node_degrees(network: nx.DiGraph) -> nx.DiGraph:\n",
    "    in_degree = dict(network.in_degree())\n",
    "    out_degree = dict(network.out_degree())\n",
    "    nx.set_node_attributes(network, in_degree, 'in_degree')\n",
    "    nx.set_node_attributes(network, out_degree, 'out_degree')\n",
    "    return network\n",
    "\n",
    "def compute_louvain_communities(\n",
    "    input_network: nx.Graph\n",
    ") -> nx.Graph:\n",
    "    community_network = input_network.copy(as_view=False)\n",
    "    community_network = community_network.to_undirected()\n",
    "    partition_dict = community_louvain.best_partition(\n",
    "        community_network, weight=\"weight\", resolution=1.3, random_state=1\n",
    "    )\n",
    "    return partition_dict\n",
    "\n",
    "\n",
    "def create_network(edge_df: pd.DataFrame) -> nx.DiGraph:\n",
    "    network = nx.MultiDiGraph()    \n",
    "    for _, row in edge_df.iterrows():\n",
    "        network.add_edge(row['source'], row['target'], **row.to_dict())\n",
    "    network = set_node_degrees(network)\n",
    "    \n",
    "    partition_dict = compute_louvain_communities(network)\n",
    "    nx.set_node_attributes(network, partition_dict, \"louvain_community\")\n",
    "    return network\n",
    "\n",
    "network = create_network(edge_df)\n",
    "positions = set_node_positions(network)"
   ],
   "metadata": {
    "collapsed": false,
    "ExecuteTime": {
     "end_time": "2024-07-28T15:40:07.211316Z",
     "start_time": "2024-07-28T15:40:07.134074Z"
    }
   },
   "id": "33ce0adec980cd70",
   "execution_count": 61
  },
  {
   "cell_type": "code",
   "outputs": [],
   "source": [
    "def plot_network_with_basemap(network: nx.DiGraph, positions: dict, year: int) -> tuple:\n",
    "    fig, ax = plt.subplots(figsize=(36, 18))\n",
    "    fig.patch.set_facecolor('#292929')\n",
    "    ax.set_facecolor('#292929')\n",
    "    \n",
    "    m = Basemap(\n",
    "        projection='merc',\n",
    "        llcrnrlat=-60,\n",
    "        urcrnrlat=75,\n",
    "        llcrnrlon=-175,\n",
    "        urcrnrlon=195,\n",
    "        resolution='i',\n",
    "        ax=ax\n",
    "    )\n",
    "    waters = \"#404040\"\n",
    "    m.drawcountries(color=\"#707070\")\n",
    "    m.drawmapboundary(fill_color='#292929', linewidth=0)\n",
    "    m.drawmapboundary(fill_color=waters)\n",
    "    m.fillcontinents(color='#292929', lake_color=waters)\n",
    "    \n",
    "    # Convert positions to basemap projection\n",
    "    projected_positions = {country: m(lon, lat) for country, (lon, lat) in positions.items()}\n",
    "    \n",
    "    # Draw the graph with nodes at the projected positions\n",
    "    nx.draw_networkx_nodes(network, projected_positions, node_size=2, node_color='darkgrey', ax=ax)\n",
    "    \n",
    "    edge_widths = []\n",
    "    for u, v, d in network.edges(data=True):\n",
    "        edge_widths.append(d['quantity'] ** 0.20)\n",
    "    \n",
    "    nx.draw_networkx_edges(network, projected_positions, arrowstyle='->', arrowsize=40, edge_color='#e44bb4', ax=ax, alpha=0.3, width=edge_widths, connectionstyle='arc3,rad=0.3')\n",
    "    \n",
    "    nx.draw_networkx_labels(network, projected_positions, font_size=10, font_family='sans-serif', ax=ax, font_color=\"white\")\n",
    "    \n",
    "        # Add year text in one corner\n",
    "    plt.text(0.99, 0.95, f'World Arms Trade Network: {year}', verticalalignment='bottom', horizontalalignment='right', \n",
    "             transform=ax.transAxes, color='white', fontsize=30, bbox=dict(facecolor='black', alpha=0.5, boxstyle='round,pad=0.5'))\n",
    "    plt.text(0.99, 0.01, f'© github/geometrein', verticalalignment='bottom', horizontalalignment='right', \n",
    "             transform=ax.transAxes, color='white', fontsize=20)\n",
    "    \n",
    "    # Save the figure without padding and white border\n",
    "    plt.subplots_adjust(left=0, right=1, top=1, bottom=0)\n",
    "    plt.savefig(f'output/map_animation_frames/trade_network_{year}.png', facecolor=fig.get_facecolor(), bbox_inches='tight', pad_inches=0)\n",
    "    return fig, ax\n",
    "\n",
    "\n",
    "def convert_fig_to_pil(fig: plt.figure) -> Image:\n",
    "    buf = io.BytesIO()\n",
    "    fig.savefig(buf, format='png')\n",
    "    buf.seek(0)\n",
    "    img = Image.open(buf)\n",
    "    return img\n",
    "\n",
    "\n",
    "def fade_images(images, fade_duration: int = 10)-> List[Image]:\n",
    "    frames = []\n",
    "    for i in range(len(images) - 1):\n",
    "        start_img = np.array(images[i])\n",
    "        end_img = np.array(images[i + 1])\n",
    "        for j in range(fade_duration + 1):\n",
    "            alpha = j / fade_duration\n",
    "            blended = (1 - alpha) * start_img + alpha * end_img\n",
    "            frames.append(Image.fromarray(np.uint8(blended)))\n",
    "    frames.append(images[-1])\n",
    "    return frames\n",
    "\n",
    "\n",
    "def animate(edge_df: pd.DataFrame, fade_duration: int=4) -> None:\n",
    "    frames = []\n",
    "    for year, year_df in edge_df.groupby('order_date'):\n",
    "        year_network = create_network(year_df)\n",
    "        fig, ax = plot_network_with_basemap(year_network, positions, year[:4])\n",
    "        pil_image = convert_fig_to_pil(fig)\n",
    "        frames.append(pil_image)\n",
    "        plt.close(fig)\n",
    "    frames_with_fade = fade_images(frames, fade_duration)\n",
    "    frames_with_fade[0].save('output/animation/animation.gif', save_all=True, append_images=frames_with_fade[1:], duration=100, loop=0)\n",
    "\n",
    "animate(edge_df)"
   ],
   "metadata": {
    "collapsed": false,
    "ExecuteTime": {
     "end_time": "2024-07-28T15:43:23.132136Z",
     "start_time": "2024-07-28T15:40:07.212095Z"
    }
   },
   "id": "6f3c2a626c3bd5cb",
   "execution_count": 62
  },
  {
   "cell_type": "code",
   "outputs": [],
   "source": [],
   "metadata": {
    "collapsed": false,
    "ExecuteTime": {
     "end_time": "2024-07-28T15:43:23.134938Z",
     "start_time": "2024-07-28T15:43:23.133401Z"
    }
   },
   "id": "e21532b7531c72c4",
   "execution_count": 62
  }
 ],
 "metadata": {
  "kernelspec": {
   "name": "networks",
   "language": "python",
   "display_name": "networks"
  },
  "language_info": {
   "codemirror_mode": {
    "name": "ipython",
    "version": 2
   },
   "file_extension": ".py",
   "mimetype": "text/x-python",
   "name": "python",
   "nbconvert_exporter": "python",
   "pygments_lexer": "ipython2",
   "version": "2.7.6"
  }
 },
 "nbformat": 4,
 "nbformat_minor": 5
}
